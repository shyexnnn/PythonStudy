{
  "nbformat": 4,
  "nbformat_minor": 0,
  "metadata": {
    "colab": {
      "provenance": [],
      "toc_visible": true,
      "authorship_tag": "ABX9TyN08O6kPe0ch/TPBcI4crM8",
      "include_colab_link": true
    },
    "kernelspec": {
      "name": "python3",
      "display_name": "Python 3"
    },
    "language_info": {
      "name": "python"
    }
  },
  "cells": [
    {
      "cell_type": "markdown",
      "metadata": {
        "id": "view-in-github",
        "colab_type": "text"
      },
      "source": [
        "<a href=\"https://colab.research.google.com/github/shyexnnn/PythonStudy/blob/master/%EB%AC%B8%EC%9E%90%EC%97%B4_%EC%9E%90%EB%A3%8C%ED%98%95.ipynb\" target=\"_parent\"><img src=\"https://colab.research.google.com/assets/colab-badge.svg\" alt=\"Open In Colab\"/></a>"
      ]
    },
    {
      "cell_type": "markdown",
      "source": [
        "# **문자열 자료형**\n"
      ],
      "metadata": {
        "id": "1qrpIr33NSit"
      }
    },
    {
      "cell_type": "markdown",
      "source": [
        "## **문자열 인덱싱과 슬라이싱**\n",
        "\n",
        "\n",
        "---\n",
        "인덱싱은 \"가리킨다\"라는 의미, 슬라이싱은 \"잘라낸다\"의 의미"
      ],
      "metadata": {
        "id": "zjoozzP4Or3r"
      }
    },
    {
      "cell_type": "markdown",
      "source": [
        "1. 인덱싱\n",
        "```\n",
        "a = \"Life is too short, You need Python\"\n",
        "a[12]\n",
        ">> 's'\n",
        "```\n",
        "0부터 숫자를 세기 때문에 a[12]는 공백 포함 0부터 12번째의 자리를 뜻한다.\n",
        "```\n",
        "a = \"Life is too short, You need Python\"\n",
        "a[-1]\n",
        ">> 'n'\n",
        "```\n",
        "a[-1]을 적으면 뒤에서 부터 읽을 수 있다. a[-0]과 a[0]은 서로 같은 값을 보여준다.\n",
        "\n",
        "\n",
        "2. 슬라이싱\n",
        "\n",
        "```\n",
        "a = \"Life is too short, You need Python\"\n",
        "b = a[0] + a[1] + a[2] + a[3]\n",
        "b\n",
        ">> 'Life'\n",
        "```\n",
        "\n",
        "```\n",
        "a = \"Life is too short, You need Python\"\n",
        "a[0:5]\n",
        ">> 'Life '\n",
        "```\n",
        "a[0:5]는 0부터 5까지의 문자를 뽑아낸다. 이때 a는 0<=a<5이다.\n",
        "\n",
        "*   a[시작번호:]: 끝번호 생략하면 시작번호부터 문자열 끝까지 뽑아냄\n",
        "*   a[:끝번호]: 시작번호 생략하면 문자열 처음부터 끝까지 뽑아냄\n",
        "*   a[:]: 시작번호, 끝번호 생략하면 문자열 처음부터 끝까지 뽑아냄\n",
        "\n",
        "\n"
      ],
      "metadata": {
        "id": "NnYL-1DCMT7P"
      }
    },
    {
      "cell_type": "markdown",
      "source": [
        "## **문자열 포매팅**\n",
        "\n",
        "\n",
        "---\n",
        "문자열 안의 특정한 값을 바꿔야 할 경우 이것을 가능하게 해주는 것이 문자열 포매팅"
      ],
      "metadata": {
        "id": "wbtfHaNTSijh"
      }
    },
    {
      "cell_type": "markdown",
      "source": [
        "1. 숫자 바로 대입\n",
        "\n",
        "```\n",
        "\"I eat %d apples.\" % 3\n",
        ">> 'I eat 3 apples.\"\n",
        "```\n",
        "문자열 안에 정수 3을 넣는다. 문자열 안에서 숫자를 넣고 싶은 자리에 %d 문자를 넣어주고, 넣을 숫자 3은 가장 뒤에 %3으로 쓴다. 이때 %d는 문자열 포맷 코드라고 부른다.\n",
        "\n",
        "\n",
        "2. 문자열 바로 대입\n",
        "\n",
        "```\n",
        "\"I eat %s apples.\" % \"one\"\n",
        ">> 'I eat one apples.'\n",
        "```\n",
        "문자열을 대입할때 큰따옴표나 작은따옴표를 꼭 쓰기\n",
        "\n",
        "\n",
        "3. 숫자 값을 나타내는 변수로 대입\n",
        "\n",
        "```\n",
        "num = 3\n",
        "\"I eat %d apples.\" % num\n",
        ">> 'I eat 3 apples.'\n",
        "```\n",
        "\n",
        "\n",
        "4. 2개 이상의 값 넣기\n",
        "\n",
        "```\n",
        "num = 4\n",
        "day = \"three\"\n",
        "\"I ate %d banana. so I was sick for %s days.\" % (num, day)\n",
        ">> 'I ate 4 banana. so I was sick for three days.'\n",
        "```\n",
        "2개 이상의 값을 넣으려면 마지막 % 다음 괄호 안에 콤마로 구분\n",
        "\n"
      ],
      "metadata": {
        "id": "iIWKgH7WUgjp"
      }
    },
    {
      "cell_type": "markdown",
      "source": [
        "### **포맷 코드와 숫자 함께 사용**\n",
        "\n",
        "---\n",
        "\n"
      ],
      "metadata": {
        "id": "OGm91IW3WgF-"
      }
    },
    {
      "cell_type": "markdown",
      "source": [
        "1. 정렬과 공백\n",
        "\n",
        "```\n",
        "\"%20s\" % \"hi\"\n",
        ">> '                    hi'\n",
        "```\n",
        "%20s는 전체 길이가 20개인 문자열 공간에서 대입되는 값을 오른쪽에 정렬하고 앞의 나머지는 공백으로 놔둔다. 반대쪽인 왼쪽 정렬은 %-20s이다.\n"
      ],
      "metadata": {
        "id": "-OS6YarYW1ZR"
      }
    },
    {
      "cell_type": "markdown",
      "source": [
        "2. 소수점 표현하기\n",
        "\n",
        "```\n",
        "\"%10.4f\" % 3.421345\n",
        ">> '          3.4213'\n",
        "```\n",
        "소수점 4까지 표시하고 전체 길이가 10인 문자열을 오른쪽으로 정렬해서 나타냈다.\n"
      ],
      "metadata": {
        "id": "K-NZtBXTYA62"
      }
    },
    {
      "cell_type": "markdown",
      "source": [
        "### **format 함수를 사용한 포매팅**\n",
        "\n",
        "\n",
        "---\n",
        "\n"
      ],
      "metadata": {
        "id": "7sdKuaUMYetO"
      }
    },
    {
      "cell_type": "markdown",
      "source": [
        "1. 숫자 바로 대입하기\n",
        "\n",
        "```\n",
        "\"I eat {0} apples\".format(3)\n",
        ">> 'I ear 3 apples'\n",
        "```\n",
        "\n",
        "\n",
        "2. 문자열 바로 대입하기\n",
        "\n",
        "```\n",
        "\"I eat {0} apples\".format(\"five\")\n",
        ">> 'I eat five apples'\n",
        "```\n",
        "\n",
        "\n",
        "3. 숫자 값을 가진 변수로 대입하기\n",
        "\n",
        "```\n",
        "number = 3\n",
        "\"I eat {0} apples\".format(number)\n",
        ">> 'I eat 3 apples'\n",
        "```\n",
        "\n",
        "\n",
        "4. 2개 이상의 값 넣기\n",
        "\n",
        "```\n",
        "number = 10\n",
        "day = \"three\"\n",
        "\"I ate {0} apples. so I was sick for {1} days.\".format(number, day)\n",
        ">> 'I ate 10 apples. so I was sick for three days.'\n",
        "```\n",
        "\n",
        "\n",
        "5. 이름으로 넣기\n",
        "\n",
        "```\n",
        "\"I ate {number} apples. so I was sick for {day} days.\".format(number=10, day=3)\n",
        ">> 'I ate 10 apples. so I was sick for 3 days.'\n",
        "```\n",
        "{name} 형태를 사용할 경우 format 함수에는 반드시 name=value 와 같은 형태의 입력값이 있어야만 한다.\n",
        "\n",
        "\n",
        "6. 인덱스와 이름을 혼용해서 넣기\n",
        "\n",
        "```\n",
        "\"I ate {0} apples. so I was sick for {day} days.\".format(10, day=3)\n",
        ">> 'I ate 10 apples. so I was sick for 3 days.'\n",
        "```\n",
        "인덱스 항목과 name=value 형태를 혼용하는 것도 가능하다.\n",
        "\n",
        "\n",
        "7. 왼쪽 정렬\n",
        "\n",
        "```\n",
        "\"{0:<10}\".format(\"hi\")\n",
        ">> 'hi          '  \n",
        "```\n",
        ":<10 표현식을 사용하면 치환되는 문자열을 왼쪽으로 정렬하고 문자열의 총 자릿수를 10으로 맞출 수 있다.\n",
        "\n",
        "\n",
        "8. 오른쪽 정렬\n",
        "\n",
        "```\n",
        "\"{0:>10}\".format(\"hi\")\n",
        ">> '        hi'\n",
        "```\n",
        "오른쪽 정렬은 :< 대신 :>을 사용하면 된다.\n",
        "\n",
        "\n",
        "9. 가운데 정렬\n",
        "\n",
        "```\n",
        "\"{0:^10}\".format(\"hi\")\n",
        ">> '    hi    '\n",
        "```\n",
        ":^ 기호를 사용하면 가운데 정렬도 가능하다.\n",
        "\n",
        "\n",
        "\n",
        "\n",
        "\n",
        "\n",
        "\n",
        "\n",
        "\n",
        "\n",
        "\n",
        "\n",
        "\n",
        "\n",
        "\n",
        "\n",
        "\n",
        "\n"
      ],
      "metadata": {
        "id": "lB9EVE4PaHD1"
      }
    }
  ]
}